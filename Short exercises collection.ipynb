{
 "cells": [
  {
   "cell_type": "markdown",
   "metadata": {},
   "source": [
    "# Collection of exercises\n",
    "\n",
    "Those exercises mostly comes from Mihalas, \"Stellar Atmospheres\", 1978 with some minor changes.\n",
    "* 🔴 - missing solution\n",
    "* ✅ - solution included"
   ]
  },
  {
   "cell_type": "markdown",
   "metadata": {},
   "source": [
    "## Exercise 1 🔴\n",
    "\n",
    "For a function defined as ([exponential integral](https://en.wikipedia.org/wiki/Exponential_integral)):\n",
    "$$\n",
    "E_n(x) = \\int_1^\\infty \\frac{\\exp(-xt) dt}{t^n} = x^{n-1}\\int_x^\\infty \\frac{s^{-t} dt}{t^n}\n",
    "$$\n",
    "show that:\n",
    "\n",
    "* $E_n'(x) = - E_{n-1}(x)$ (Hint: Leibniz integral rule)\n",
    "* $E_n(x) = \\frac{\\exp(-x) - xE_{n-1}(x)}{n-1}$ (Hint: Integration by parts)\n",
    "* $E_n(0) = \\frac{1}{n-1}$"
   ]
  },
  {
   "cell_type": "markdown",
   "metadata": {},
   "source": [
    "## Exercise 2 🔴"
   ]
  },
  {
   "cell_type": "markdown",
   "metadata": {},
   "source": [
    "Prove that:\n",
    "$$\n",
    "E'_1 = - e^{-x}/x\n",
    "$$"
   ]
  },
  {
   "cell_type": "markdown",
   "metadata": {},
   "source": [
    "## Exercise 3 🔴\n",
    "\n",
    "Show that:\n",
    "$$\n",
    "(\\forall n \\in \\mathbb{N}) \\quad E_n(x) = \\lim_{x \\to\\infty} e^{-x}/x\n",
    "$$"
   ]
  },
  {
   "cell_type": "markdown",
   "metadata": {},
   "source": [
    "## Exercise 4 🔴\n",
    "\n",
    "Show that for a linear source function: $S(\\tau) = a+ b\\tau$:\n",
    "* $\\Lambda_\\tau [S(t)] = (a+b\\tau) + \\frac{1}{2} (b E_3(\\tau) - aE_2(\\tau))$\n",
    "* $\\Phi_\\tau[S(t)] = \\frac{4}{3} b + 2(a E_3(\\tau) - bE_4(\\tau))$\n",
    "\n",
    "(Hint: Find $\\Lambda_\\tau[1]$ and $\\Lambda_\\tau[t]$ and use solution of the 1. exercise)\n",
    "\n",
    "Then check:\n",
    "* $\\Lambda_{\\tau=0} = \\frac{1}{2} a + \\frac{1}{4} b$\n",
    "* $S(\\tau) = \\lim_{\\tau \\to\\infty} J(\\tau)$, knowing that $J(\\tau) = \\Lambda_\\tau[S(t)]$\n",
    "* $H(0) = \\frac{1}{4}a + \\frac{1}{6}b$\n",
    "* $\\frac{1}{3} = \\lim_{\\tau \\to\\infty} H(\\tau)$"
   ]
  },
  {
   "cell_type": "markdown",
   "metadata": {},
   "source": [
    "## Exercise 5 🔴\n",
    "\n",
    "Numerically check Exercises from 1 to 4."
   ]
  },
  {
   "cell_type": "markdown",
   "metadata": {},
   "source": [
    "## Exercise 6 🔴\n",
    "\n",
    "Show that under assumptions of gray atmosphere and Eddington approximation, the limb darkening equals:\n",
    "$$\n",
    "I_E(0,\\mu) = \\frac{3}{4}F\\Big(\\mu + \\frac{2}{3}\\Big)\n",
    "$$\n",
    "Plot the solution."
   ]
  },
  {
   "cell_type": "markdown",
   "metadata": {},
   "source": [
    "## Exercise 7 🔴\n",
    "Using Eddington approximation, $S(\\tau) = J_E(\\tau) = 3H(\\tau + \\frac{2}{3})$, to the gray atmosphere problem in radiative equilibrium show that:\n",
    "\n",
    "$$\n",
    "J_E^{(2)} = \\Lambda_{\\tau} [S(t)] = \\frac{3}{4} F \\Big( \\tau + \\frac{2}{3} - \\frac{1}{3}E_2(\\tau) + \\frac{1}{2}E_3(\\tau) \\Big)\n",
    "$$\n",
    "$$\n",
    "\\frac{J_E^{(2)}(0)}{J_E(0)} = \\frac{7}{8}\n",
    "$$\n",
    "$$\n",
    "\\frac{T(\\tau=0)}{T_{eff}} = \\Big( \\frac{7}{16}\\Big)^{\\frac{1}{4}} \\approx 0.813\n",
    "$$\n",
    "$$\n",
    "q(0) = \\frac{7}{12} \\approx 0.583\n",
    "$$\n",
    "$$\n",
    "F^{(2)}(\\tau) = \\Phi_\\tau[S(t)] = F \\Big(1 + E_3(\\tau) - \\frac{3}{2} E_4(\\tau)\\Big)\n",
    "$$\n",
    "$$\n",
    "\\frac{\\Delta F}{ F} = \\frac{F - F^{(2)}}{F} = -E_3(\\tau)  + \\frac{3}{2} E_4(\\tau)\n",
    "$$\n",
    "\n",
    "Why $F^{(2)}$ varies with depth?\n",
    "\n",
    "Plot all solutions."
   ]
  },
  {
   "cell_type": "markdown",
   "metadata": {},
   "source": [
    "## Exercise 8 🔴\n",
    "\n",
    "Calculate $X_\\tau[S(t) = J_E(t)]$.\n",
    "\n",
    "\n",
    "Show that:\n",
    "$$\n",
    "K_E^{(2)} = \\frac{3}{16} F \\Big( \\frac{4}{3} \\tau + \\frac{8}{9} - \\frac{4}{3}E_4(\\tau) + 2E_5(\\tau) \\Big)\n",
    "$$\n",
    "\n",
    "\n",
    "Derive analitical solution for Eddington factors:\n",
    "* $f_E(\\tau) = \\frac{K_E(\\tau)}{J_E(\\tau)}$\n",
    "* $f_E^{(2)}(\\tau) = \\frac{K^{(2)}_E(\\tau)}{J^{(2)}_E(\\tau)}$\n",
    "\n",
    "Compare results with the plot.\n",
    "\n",
    "Show that $J_E^{(2)}(\\tau)$ leads to limb darkening law of the form:\n",
    "$$\n",
    "I_E^{(2)}(0,\\mu) = \\frac{3}{4} F \\Big[ \\frac{7}{12} + \\frac{1}{2} \\mu + \\Big( \\frac{1}{3}\\mu + \\frac{1}{2}\\mu^2 \\Big)\\ln\\Big(\\frac{1+\\mu}{\\mu}\\Big) \\Big]\n",
    "$$\n",
    "\n",
    "Compare grafically $I^{(2)}_E(0,\\mu)$ and $I_E(0,\\mu)$."
   ]
  },
  {
   "cell_type": "markdown",
   "metadata": {},
   "source": [
    "## Exercise 9 🔴\n",
    "\n",
    "Apply Chandrasekhar method with $n=1$ and $n=2$. In both cases calculate solutions for:\n",
    "* $J(\\tau)$\n",
    "* $q(\\tau)$\n",
    "* $I(0,\\mu)$\n",
    "* $K(\\tau)$\n",
    "* $f_K = \\frac{K(\\tau)}{J(\\tau)}$\n",
    "* $f_H = \\frac{H(\\tau)}{J(\\tau)}$"
   ]
  },
  {
   "cell_type": "markdown",
   "metadata": {},
   "source": [
    "## Exercise 10 ✅\n",
    "\n",
    "#### Unsold method\n",
    "\n",
    "Lets assume plane parallel atmosphere aproximation ($\\frac{dH(\\tau)}{d\\tau} = 0$). As the first approximation of the source function use:\n",
    "$$\n",
    "B(\\tau) = 3 H (\\tau + C)\n",
    "$$\n",
    "Which means that the Hopf function $q(\\tau) = C = const$.\n",
    "\n",
    "1) Calculate the flux $H(\\tau)$ and show that:\n",
    "$$\n",
    "\\Delta H(\\tau) \\equiv H - H(\\tau) = \\frac{3}{2} H \\big(E_4(\\tau) - C E_3(\\tau)\\big)\n",
    "$$\n",
    "2) Calculate $\\Delta H(0)$ and $\\frac{d\\Delta H(\\tau) }{d\\tau}$.\n",
    "\n",
    "3) Show that in Unsold methos corrections to the source function equals:\n",
    "$$\n",
    "\\Delta B(\\tau) = 3 H \\Big( \\frac{17}{24} - C - \\frac{1}{2} C E_2(\\tau) + \\frac{1}{2} E_3(\\tau) + \\frac{3}{2} C E_4(\\tau) - \\frac{3}{2}E_5(\\tau) \\Big)\n",
    "$$\n",
    "4) Show that:\n",
    "* $q(0) = \\frac{7}{12}$\n",
    "* $\\lim_{\\tau \\to \\infty} q(\\tau) = \\frac{17}{24} \\approx 0.708$\n",
    "\n",
    "5) Compare that approximation with exact solution by plotting both."
   ]
  },
  {
   "cell_type": "markdown",
   "metadata": {},
   "source": [
    "#### Solution\n",
    "\n",
    "1. We know that:\n",
    "$$\n",
    "H(\\tau) = \\frac{1}{4} \\Phi[B(t)](\\tau)\n",
    "$$\n",
    "And because our source function $B(\\tau)$ is linear we can use the solution from exercise number 4., to obtain:\n",
    "$$\n",
    "H(\\tau) = H + \\frac{3 H}{2}\\big(C E_3(\\tau) - E_4(\\tau)\\big)\n",
    "$$\n",
    "Which easly gives the expected expression:\n",
    "$$\n",
    "\\Delta H(\\tau) \\equiv H - H(\\tau) = \\frac{3}{2} H \\big(E_4(\\tau) - C E_3(\\tau)\\big)\n",
    "$$\n",
    "2. From above equation with the use of equalities proven in first exercise we can obtain: \n",
    "$$\n",
    "\\Delta H(0) = \\frac{3}{2} H \\Big( \\frac{1}{3} - C\\frac{1}{5}\\Big) = H \\Big( \\frac{1}{2} - \\frac{3C}{4}\\Big)\n",
    "$$\n",
    "$$\n",
    "\\frac{d\\Delta H(\\tau) }{d\\tau} = \\frac{3}{2} H \\big( CE_2(\\tau) - E_3(\\tau) \\big)\n",
    "$$\n",
    "3. Knowing that the Unsold correction term is given by:\n",
    "$$\n",
    "\\Delta B(\\tau) = 3\\int_0^\\tau \\Delta H(\\tau')d\\tau' + 2 \\Delta H(0) - \\frac{d\\Delta H(\\tau) }{d\\tau}\n",
    "$$\n",
    "We only need to find the value of the integral (with the help of the solution of the first exercise):\n",
    "$$\n",
    "\\int_0^\\tau \\Delta H(\\tau')d\\tau' = \\int_0^\\tau \\frac{3}{2}H\\big( E_4(\\tau') - C E_3(\\tau') \\big) d\\tau' = \\frac{3}{2}H \\Big( \\int_0^\\tau E_4(\\tau') d\\tau' - C  \\int_0^\\tau E_3(\\tau') d\\tau'\\Big)\n",
    "$$\n",
    "$$\n",
    "\\int_0^\\tau \\Delta H(\\tau')d\\tau' = \\frac{3}{2}H \\Big(-E_5(\\tau) +\\frac{1}{4} + CE_4(\\tau) -  \\frac{C}{3}\\Big)\n",
    "$$\n",
    "We can now substitute and obtain:\n",
    "$$\n",
    "\\Delta B(\\tau) = 3 H \\Big( \\frac{17}{24} - C - \\frac{1}{2} C E_2(\\tau) + \\frac{1}{2} E_3(\\tau) + \\frac{3}{2} C E_4(\\tau) - \\frac{3}{2}E_5(\\tau) \\Big)\n",
    "$$\n",
    "4. First we need to write down the value of $B_U(\\tau)$ which is the source function after the first correction:\n",
    "$$\n",
    "B_U(\\tau) = B(\\tau) + \\Delta B(\\tau) = 3H(\\tau + C) + 3 H \\Big( \\frac{17}{24} - C - \\frac{1}{2} C E_2(\\tau) + \\frac{1}{2} E_3(\\tau) + \\frac{3}{2} C E_4(\\tau) - \\frac{3}{2}E_5(\\tau) \\Big)\n",
    "$$\n",
    "$$\n",
    "B_U(\\tau) =3H(\\tau + \\frac{17}{24}- \\frac{1}{2} C E_2(\\tau) + \\frac{1}{2} E_3(\\tau) + \\frac{3}{2} C E_4(\\tau) - \\frac{3}{2}E_5(\\tau) \\Big)\n",
    "$$\n",
    "So now we can see that the Kopf function $q(\\tau)$ equals:\n",
    "$$\n",
    "q(\\tau) = \\frac{17}{24}- \\frac{1}{2} C E_2(\\tau) + \\frac{1}{2} E_3(\\tau) + \\frac{3}{2} C E_4(\\tau) - \\frac{3}{2}E_5(\\tau)\n",
    "$$\n",
    "So using the solution of the first and the third exercise we can prove that:\n",
    "$$\n",
    "q(0) = \\frac{17}{24}- \\frac{1}{2} C + \\frac{1}{2} \\frac{1}{2} + \\frac{3}{2} C \\frac{1}{3}- \\frac{3}{2}\\frac{1}{4} = \\frac{7}{12}\n",
    "$$\n",
    "$$\n",
    "\\lim_{\\tau \\to \\infty} q(\\tau) = \\frac{17}{24} \n",
    "$$"
   ]
  },
  {
   "cell_type": "code",
   "execution_count": 32,
   "metadata": {},
   "outputs": [
    {
     "data": {
      "text/plain": [
       "<matplotlib.legend.Legend at 0x7f5480d802d0>"
      ]
     },
     "execution_count": 32,
     "metadata": {},
     "output_type": "execute_result"
    },
    {
     "data": {
      "image/png": "[encoded data removed]",
      "text/plain": [
       "<Figure size 864x432 with 1 Axes>"
      ]
     },
     "metadata": {
      "needs_background": "light"
     },
     "output_type": "display_data"
    }
   ],
   "source": [
    "import matplotlib.pyplot as plt\n",
    "from scipy.special import expn\n",
    "from numpy.testing  import assert_allclose\n",
    "taus = [0.0, 0.01, 0.03, 0.05, 0.10, 0.2, 0.3, 0.4, 0.5, 0.6, \n",
    "        0.8, 1.0, 1.5, 2.0, 2.5, 3.0, 3.5, 4.0, 5.0, float(\"inf\")]\n",
    "qs_exact = [0.577351, 0.588236, 0.601242, 0.610758, 0.627919, 0.649550, 0.663365, 0.673090, 0.680240, 0.685801,\n",
    "           0.693534, 0.698540, 0.705130, 0.707916, 0.709191, 0.709806, 0.710120, 0.710270, 0.710398, 0.710446]\n",
    "\n",
    "def q_unsold(tau, C=2/3):\n",
    "    return 17/24 - 0.5*C*expn(2,tau) + 0.5*expn(3,tau) + 1.5*C*expn(4,tau) -1.5*expn(5,tau)\n",
    "qs_unsold = q_unsold(taus)\n",
    "\n",
    "# Check numerically these equalities\n",
    "assert_allclose(q_unsold(0),7/12) # q(0) == 7/12\n",
    "assert_allclose(q_unsold(float(\"inf\")),17/24) # q(inf) -> 17/24\n",
    "\n",
    "\n",
    "plt.figure(figsize=(12,6))\n",
    "plt.title(\"Exact solution and Unsold approximation comparison\")\n",
    "plt.plot(taus, qs_exact, label= r\"Exact q($\\tau$)\")\n",
    "plt.plot(taus, qs_unsold, label= r\"Unsold q($\\tau$)\")\n",
    "plt.xlabel(r\"$\\tau$\")\n",
    "plt.ylabel(r\"$\\tau$\")\n",
    "plt.legend()"
   ]
  },
  {
   "cell_type": "markdown",
   "metadata": {},
   "source": [
    "## Exercise 11 🔴\n",
    "Campare graphically Hopf function $q(\\tau)$ in case of different approximations to the plane parallel gray atmosphere problem:\n",
    "* Eddington method , $S(\\tau) = J_E(\\tau)$\n",
    "* Eddington method , $S(\\tau) = J^{(2)}_E(\\tau)$\n",
    "* Chandrasekhar method ($n=1$)\n",
    "* Unsold method (after one iteration)\n",
    "* Exact solution "
   ]
  },
  {
   "cell_type": "markdown",
   "metadata": {},
   "source": [
    "## Exercise 12 ✅\n",
    "\n",
    "Generalize the solution of the Exercise 10. to non-gray case.\n",
    "\n",
    "Start with:\n",
    "$$\n",
    "\\frac{d H_\\nu}{d\\tau_\\nu} = J_\\nu - S_\\nu\n",
    "$$\n",
    "$$\n",
    "\\frac{dK_\\nu}{d\\tau_\\nu} = H_\\nu\n",
    "$$\n",
    "where:\n",
    "$$\n",
    "S_\\nu = \\frac{\\kappa_\\nu}{\\kappa_\\nu + \\sigma_\\nu} B_\\nu + \\frac{\\sigma_\\nu}{\\kappa_\\nu + \\sigma_\\nu} J_\\nu\n",
    "$$\n",
    "$$\n",
    "d\\tau_\\nu = (\\kappa_\\nu + \\sigma_\\nu) \\rho dz = \\chi_\\nu \\rho dz\n",
    "$$\n",
    "\n",
    "Show that, assuming $K = \\frac{1}{3} J$ the Unsold correction equals:\n",
    "$$\n",
    "\\Delta B (\\tau_B) = \\frac{\\kappa_J}{\\kappa_B} \\Big(3\\int_0^{\\tau_B} \\frac{\\chi_H}{\\kappa_B} \\Delta H(t) dt + 2 \\Delta H(\\tau_B = 0)\\Big) - \\frac{d\\big( \\Delta H (\\tau_B)\\big)}{d \\tau_B}\n",
    "$$\n",
    "\n",
    "* $K,~J,~H$ are defined as: $K = \\int_0^\\infty K_\\nu d \\nu$, etc.\n",
    "* $\\chi_H,~\\kappa_B,~ \\kappa_J$ are mean absorption coefficients weighted respectively by: $H_\\nu,~B_\\nu,~J_\\nu$\n",
    "* $\\tau_B$ - optical depth obtained using $\\kappa_B$\n",
    "\n",
    "What is the first temperature correction?"
   ]
  },
  {
   "cell_type": "markdown",
   "metadata": {},
   "source": [
    "#### Solution\n",
    "\n",
    "The solution follows the [Lucy, 1964](https://ui.adsabs.harvard.edu/abs/1964SAOSR.167...93L/abstract) derivation.\n",
    "\n",
    "First it is usefull to write the moments of transfer equation in the form:\n",
    "$$\n",
    "\\frac{1}{\\rho }\\frac{dH_\\nu}{dz} =  (\\kappa_\\nu + \\sigma_\\nu) \\Big(J_\\nu -  \\frac{\\kappa_\\nu}{\\kappa_\\nu + \\sigma_\\nu} B_\\nu - \\frac{\\sigma_\\nu}{\\kappa_\\nu + \\sigma_\\nu} J_\\nu \\Big) = \\kappa_\\nu J_\\nu - \\kappa_\\nu B_\\nu\n",
    "$$\n",
    "\n",
    "$$\n",
    "\\frac{1}{\\rho } \\frac{dK_\\nu}{d\\tau_\\nu} = (\\kappa_\\nu + \\sigma_\\nu)H_\\nu\n",
    "$$\n",
    "\n",
    "Then we can integrate the moments equations given above over frequency to obtain:\n",
    "$$\n",
    "\\int_0^\\infty \\frac{1}{\\rho }\\frac{dH_\\nu}{dz} d\\nu =  \\int_0^\\infty\\kappa_\\nu J_\\nu d\\nu - \\int_0^\\infty\\kappa_\\nu B_\\nu d\\nu\n",
    "$$\n",
    "$$\n",
    "\\frac{1}{\\rho }\\frac{dH}{dz}= \\kappa_J J  - \\kappa_B B\n",
    "$$\n",
    "\n",
    "$$\n",
    "\\frac{dH}{d\\tau_{B}} = \\frac{\\kappa_J}{\\kappa_B} J  - B\n",
    "$$\n",
    "And similarly we use second equation to get:\n",
    "$$\n",
    "\\frac{dK}{d\\tau_B} = \\frac{\\chi_H}{\\kappa_B} H\n",
    "$$"
   ]
  },
  {
   "cell_type": "markdown",
   "metadata": {},
   "source": [
    "Now what we wish to find is the themperature distribution that, $B' = \\frac{\\sigma}{\\pi}T'^4$, which gives radiation field $I_\\nu'(\\tau,\\mu)$ that gives:\n",
    "$$\n",
    "H'(\\tau) = \\frac{\\sigma}{4\\pi}T'^4_{eff}\n",
    "$$\n",
    "The question is how to obtain the correcton $\\Delta B$ that satisfies the condition:\n",
    "$$\n",
    "B' = B + \\Delta B \n",
    "$$\n",
    "\n",
    "In order to do that we will assume that ratios of mean opacities varies slowly from iteration to iteration so we can can assume that they are constant. Then we will write the moments of transfer equation for variables with $'$ and substract by sides to get:\n",
    "$$\n",
    "\\frac{d\\Delta H}{d\\tau_{B}} = \\frac{\\kappa_J}{\\kappa_B} \\Delta J  - \\Delta B\n",
    "$$\n",
    "$$\n",
    "\\frac{d\\Delta K}{d\\tau_B} = \\frac{\\chi_H}{\\kappa_B} \\Delta H\n",
    "$$"
   ]
  },
  {
   "cell_type": "markdown",
   "metadata": {},
   "source": [
    "In that way we get 2 equations for 3 unknows. To close the system we will use the Eddington approximation:\n",
    "$$\n",
    "\\Delta K = \\frac{1}{3} \\Delta J~,~~ \\Delta H(0) = - \\frac{1}{2} \\Delta J(0) \n",
    "$$\n"
   ]
  },
  {
   "cell_type": "markdown",
   "metadata": {},
   "source": [
    "So now we can solve the system for $\\Delta B$ in terms of $\\Delta H$.\n",
    "$$\n",
    "\\Delta B =  \\frac{\\kappa_J}{\\kappa_B} \\Delta J  - \\frac{d\\Delta H}{d\\tau_{B}}\n",
    "=\\frac{\\kappa_J}{\\kappa_B} \\Bigg( 3 \\int_0^\\tau \\frac{\\chi_H}{\\kappa_B} \\Delta H(t) dt + 2 \\Delta H(\\tau_B=0)    \\Bigg)  - \\frac{d\\Delta H}{d\\tau_{B}}\n",
    "$$"
   ]
  },
  {
   "cell_type": "markdown",
   "metadata": {},
   "source": [
    "What is the temperature correction?\n",
    "\n",
    "Because $ T = \\sqrt[4]{\\frac{\\pi}{\\sigma} B}$ we can calculate:\n",
    "$$\n",
    "\\Delta T = T' - T = \\sqrt[4]{\\frac{\\pi}{\\sigma} (B + \\Delta B)} - \\sqrt[4]{\\frac{\\pi}{\\sigma} B}\n",
    "$$"
   ]
  },
  {
   "cell_type": "markdown",
   "metadata": {},
   "source": [
    "## Exercise 13 🔴\n",
    "\n",
    "Assume plane-parallel atmosphere in LTE with source function $S_\\nu(\\tau)$ composed of LTE absorption and free electron scattering term.\n",
    "\n",
    "1) Write explicite form of source function $S_\\nu(\\tau)$.\n",
    "\n",
    "2) Write integrals for $S_\\nu$ and $J_\\nu$.\n",
    "\n",
    "3) Write operator form for $S_\\nu$ and $J_\\nu$, i.e.:\n",
    "$$\n",
    "S = \\frac{\\kappa}{\\kappa + \\sigma}B + \\frac{\\sigma}{\\kappa+\\sigma}\\Lambda [S]\n",
    "$$\n",
    "$$\n",
    "J = \\Lambda [B] + \\frac{\\sigma}{\\kappa+\\sigma}\\Lambda [J-B]\n",
    "$$"
   ]
  },
  {
   "cell_type": "markdown",
   "metadata": {},
   "source": [
    "## Exercise 14 🔴\n",
    "#### Continuation of Ex.13\n",
    "\n",
    "Iterative schema for $J(\\tau)$.\n",
    "\n",
    "Starting with initial solution $J^0 = B^0$ for $\\sigma=0$ show that, after $n$ iterations we obtained:\n",
    "$$\n",
    "J^N = B^0 + \\sum_{i=1}^n \\delta^i\n",
    "$$\n",
    "Where:\n",
    "$$\n",
    "\\delta^0 = B^0 - B\n",
    "$$\n",
    "$$\n",
    "\\delta^i = \\Lambda\\Big[ \\frac{\\sigma}{\\kappa + \\sigma} \\delta^{i-1}\\Big]\n",
    "$$\n",
    "Compute the value of  $J^n$ in case of linear source function: $B = a +b \\tau$"
   ]
  },
  {
   "cell_type": "markdown",
   "metadata": {},
   "source": [
    "## Exercise 15 🔴\n",
    "#### Continuation of Ex.14\n",
    "\n",
    "Unter the assumption of plane parallel atmosphere, $B = a+b \\tau$, $\\frac{\\kappa}{\\sigma}=const$ and Eddington approximation show that:\n",
    "$$\n",
    "J - B = \\alpha \\exp(-\\lambda \\tau) + \\beta \\exp (\\lambda\\tau)\n",
    "$$\n",
    "Where $\\lambda = \\sqrt{3\\frac{\\kappa}{\\kappa + \\sigma}}$\n",
    "\n",
    "(Hint: differentiate $\\frac{d}{d\\tau}$ radiation transfer equation)\n",
    "\n",
    "What are the boundary conditions at $\\tau = 0$ and $\\tau \\to \\infty$? For $\\tau = 0$ use Eddington approximation (it should give $\\beta=0,~\\alpha=\\frac{1}{\\sqrt{3}}H(0)-a$).\n",
    "\n",
    "Discuss the thermalization depth - the optical depth where $J\\approx B$, when scattering term dominates ($\\frac{\\kappa}{\\kappa + \\sigma} \\approx 10^{-4}$)."
   ]
  },
  {
   "cell_type": "markdown",
   "metadata": {},
   "source": [
    "## Exercise 16 🔴\n",
    "\n",
    "Derive the radiative transfer equation in the form:\n",
    "$$\n",
    "\\frac{1}{\\kappa} \\frac{d}{dm} \\Big( \\frac{1}{\\kappa} \\frac{dK}{dm}\\Big) = J - S\n",
    "$$\n",
    "Show that defining the $f_K = \\frac{K}{J}$ we get the Feautrier form of transfer equation."
   ]
  },
  {
   "cell_type": "markdown",
   "metadata": {},
   "source": [
    "## Exercise 17 🔴\n",
    "\n",
    "Unther the assumption of plane-parallel atmosphere in radiative balance and:\n",
    "$$\n",
    "S_\\nu = \\frac{\\kappa_\\nu}{\\kappa_\\nu +\\sigma_\\nu}B_\\nu + \\frac{\\sigma_\\nu}{\\kappa_\\nu +\\sigma_\\nu}J_\\nu\n",
    "$$\n",
    "Show that radiative transpher equilibrium equation reduces to:\n",
    "$$\n",
    "\\kappa_B B = \\kappa_J J\n",
    "$$\n",
    "and teprerature is given by equation (exact in LTE):\n",
    "$$\n",
    "T^4 = \\frac{3}{4} T^4_{eff} \\frac{\\kappa_J}{\\kappa_B}\\Big( \\frac{\\tau_H}{3f_K} + \\frac{1}{3f_H(0)} \\Big)\n",
    "$$\n",
    "Where:\n",
    "$$\n",
    "\\kappa_J = \\frac{\\int \\kappa_\\nu J_\\nu d\\nu}{\\int \\kappa_\\nu d\\nu}\n",
    "$$\n",
    "$$\n",
    "\\kappa_B = \\frac{\\int \\kappa_\\nu B_\\nu d\\nu}{\\int \\kappa_\\nu d\\nu}\n",
    "$$\n",
    "$$\n",
    "\\chi_H = \\frac{\\int (\\kappa_\\nu +\\sigma_nu)H_\\nu d\\nu}{\\int (\\kappa_\\nu+\\sigma_\\nu) d\\nu}\n",
    "$$\n",
    "$$\n",
    "d\\tau_H = \\chi_H dm\n",
    "$$\n",
    "And $f_K = K/J$, $f_H = H/J$\n",
    "\n",
    "Compare this to Eddington solution to grey atmosphere problem."
   ]
  },
  {
   "cell_type": "markdown",
   "metadata": {},
   "source": [
    "## Exercise 18 🔴\n",
    "\n",
    "Write down the hydrostatic equilibrium equations that include the radiative pressure:\n",
    "* $\\frac{dP_g}{dz} = \\cdots$\n",
    "* $\\frac{dP_g}{d\\tau_F} = \\cdots$\n",
    "* $\\frac{dP_g}{dm} = \\cdots$\n",
    "* $\\frac{dP_g}{dm} = \\cdots$ - in diffusion approximation\n",
    "* $\\frac{dP_g}{dz} = \\cdots$ - for gray atmosphere when $P_r = \\frac{1}{3}aT^4$"
   ]
  },
  {
   "cell_type": "markdown",
   "metadata": {},
   "source": [
    "## Exercise 19 🔴\n",
    "\n",
    "#### Spherical atmospheres\n",
    "\n",
    "Starting from the equation \n",
    "$$\n",
    "\\mu \\frac{d I_\\nu}{dr} + \\frac{1}{r} (1-\\mu^2) \\frac{dI_\\nu}{d\\mu} = j_\\nu - \\chi_\\nu I_\\nu\n",
    "$$\n",
    "Show that:\n",
    "$$\n",
    "\\frac{\\partial K_\\nu}{\\partial r} + \\frac{1}{r} (3K_\\nu - J_\\nu) = -\\chi_\\nu H_\\nu\n",
    "$$\n",
    "$$\n",
    "\\frac{1}{r^2} \\frac{\\partial (r^2 H_\\nu)}{\\partial r} = j_\\nu - \\chi_\\nu J_\\nu\n",
    "$$"
   ]
  }
 ],
 "metadata": {
  "kernelspec": {
   "display_name": "Python 3",
   "language": "python",
   "name": "python3"
  },
  "language_info": {
   "codemirror_mode": {
    "name": "ipython",
    "version": 3
   },
   "file_extension": ".py",
   "mimetype": "text/x-python",
   "name": "python",
   "nbconvert_exporter": "python",
   "pygments_lexer": "ipython3",
   "version": "3.7.6"
  }
 },
 "nbformat": 4,
 "nbformat_minor": 2
}
