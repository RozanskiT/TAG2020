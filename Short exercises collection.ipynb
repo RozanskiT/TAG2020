{
 "cells": [
  {
   "cell_type": "markdown",
   "metadata": {},
   "source": [
    "# Collection of exercises\n",
    "\n",
    "Those exercises mostly comes from Mihalas, \"Stellar Atmospheres\", 1978 with some minor changes."
   ]
  },
  {
   "cell_type": "markdown",
   "metadata": {},
   "source": [
    "## Exercise 1\n",
    "\n",
    "For a function defined as ([exponential integral](https://en.wikipedia.org/wiki/Exponential_integral)):\n",
    "$$\n",
    "E_n(x) = \\int_1^\\infty \\frac{\\exp(-xt) dt}{t^n} = x^{n-1}\\int_x^\\infty \\frac{s^{-t} dt}{t^n}\n",
    "$$\n",
    "show that:\n",
    "\n",
    "* $E_n'(x) = - E_{n-1}(x)$ (Hint: Leibniz integral rule)\n",
    "* $E_n(x) = \\frac{\\exp(-x) - xE_{n-1}(x)}{n-1}$ (Hint: Integration by parts)\n",
    "* $E_n(0) = \\frac{1}{n-1}$"
   ]
  },
  {
   "cell_type": "markdown",
   "metadata": {},
   "source": [
    "## Exercise 2"
   ]
  },
  {
   "cell_type": "markdown",
   "metadata": {},
   "source": [
    "Prove that:\n",
    "$$\n",
    "E'_1 = - e^{-x}/x\n",
    "$$"
   ]
  },
  {
   "cell_type": "markdown",
   "metadata": {},
   "source": [
    "## Exercise 3\n",
    "\n",
    "Show that:\n",
    "$$\n",
    "(\\forall n \\in \\mathbb{N}) \\quad E_n(x) = \\lim_{x \\to\\infty} e^{-x}/x\n",
    "$$"
   ]
  },
  {
   "cell_type": "markdown",
   "metadata": {},
   "source": [
    "## Exercise 4\n",
    "\n",
    "Show that for a linear source function: $S(\\tau) = a+ b\\tau$:\n",
    "* $\\Lambda_\\tau [S(t)] = (a+b\\tau) + \\frac{1}{2} (b E_3(\\tau) - aE_2(\\tau))$\n",
    "* $\\Phi_\\tau[S(t)] = \\frac{4}{3} b + 2(a E_3(\\tau) - bE_4(\\tau))$\n",
    "\n",
    "(Hint: Find $\\Lambda_\\tau[1]$ and $\\Lambda_\\tau[t]$ and use solution of the 1. exercise)\n",
    "\n",
    "Then check:\n",
    "* $\\Lambda_{\\tau=0} = \\frac{1}{2} a + \\frac{1}{4} b$\n",
    "* $S(\\tau) = \\lim_{\\tau \\to\\infty} J(\\tau)$, knowing that $J(\\tau) = \\Lambda_\\tau[S(t)]$\n",
    "* $H(0) = \\frac{1}{4}a + \\frac{1}{6}b$\n",
    "* $\\frac{1}{3} = \\lim_{\\tau \\to\\infty} H(\\tau)$"
   ]
  },
  {
   "cell_type": "markdown",
   "metadata": {},
   "source": [
    "## Exercise 5\n",
    "\n",
    "Numerically check Exercises from 1 to 4."
   ]
  },
  {
   "cell_type": "markdown",
   "metadata": {},
   "source": [
    "## Exercise 6\n",
    "\n",
    "Show that under assumptions of gray atmosphere and Eddington approximation, the limb darkening equals:\n",
    "$$\n",
    "I_E(0,\\mu) = \\frac{3}{4}F\\Big(\\mu + \\frac{2}{3}\\Big)\n",
    "$$\n",
    "Plot the solution."
   ]
  },
  {
   "cell_type": "markdown",
   "metadata": {},
   "source": [
    "## Exercise 7\n",
    "Using Eddington approximation, $S(\\tau) = J_E(\\tau) = 3H(\\tau + \\frac{2}{3})$, to the gray atmosphere problem in radiative equilibrium show that:\n",
    "\n",
    "$$\n",
    "J_E^{(2)} = \\Lambda_{\\tau} [S(t)] = \\frac{3}{4} F \\Big( \\tau + \\frac{2}{3} - \\frac{1}{3}E_2(\\tau) + \\frac{1}{2}E_3(\\tau) \\Big)\n",
    "$$\n",
    "$$\n",
    "\\frac{J_E^{(2)}(0)}{J_E(0)} = \\frac{7}{8}\n",
    "$$\n",
    "$$\n",
    "\\frac{T(\\tau=0)}{T_{eff}} = \\Big( \\frac{7}{16}\\Big)^{\\frac{1}{4}} \\approx 0.813\n",
    "$$\n",
    "$$\n",
    "q(0) = \\frac{7}{12} \\approx 0.583\n",
    "$$\n",
    "$$\n",
    "F^{(2)}(\\tau) = \\Phi_\\tau[S(t)] = F \\Big(1 + E_3(\\tau) - \\frac{3}{2} E_4(\\tau)\\Big)\n",
    "$$\n",
    "$$\n",
    "\\frac{\\Delta F}{ F} = \\frac{F - F^{(2)}}{F} = -E_3(\\tau)  + \\frac{3}{2} E_4(\\tau)\n",
    "$$\n",
    "\n",
    "Why $F^{(2)}$ varies with depth?\n",
    "\n",
    "Plot all solutions."
   ]
  },
  {
   "cell_type": "markdown",
   "metadata": {},
   "source": [
    "## Exercise 8\n",
    "\n",
    "Calculate $X_\\tau[S(t) = J_E(t)]$.\n",
    "\n",
    "\n",
    "Show that:\n",
    "$$\n",
    "K_E^{(2)} = \\frac{3}{16} F \\Big( \\frac{4}{3} \\tau + \\frac{8}{9} - \\frac{4}{3}E_4(\\tau) + 2E_5(\\tau) \\Big)\n",
    "$$\n",
    "\n",
    "\n",
    "Derive analitical solution for Eddington factors:\n",
    "* $f_E(\\tau) = \\frac{K_E(\\tau)}{J_E(\\tau)}$\n",
    "* $f_E^{(2)}(\\tau) = \\frac{K^{(2)}_E(\\tau)}{J^{(2)}_E(\\tau)}$\n",
    "\n",
    "Compare results with the plot.\n",
    "\n",
    "Show that $J_E^{(2)}(\\tau)$ leads to limb darkening law of the form:\n",
    "$$\n",
    "I_E^{(2)}(0,\\mu) = \\frac{3}{4} F \\Big[ \\frac{7}{12} + \\frac{1}{2} \\mu + \\Big( \\frac{1}{3}\\mu + \\frac{1}{2}\\mu^2 \\Big)\\ln\\Big(\\frac{1+\\mu}{\\mu}\\Big) \\Big]\n",
    "$$\n",
    "\n",
    "Compare grafically $I^{(2)}_E(0,\\mu)$ and $I_E(0,\\mu)$."
   ]
  },
  {
   "cell_type": "markdown",
   "metadata": {},
   "source": [
    "## Exercise 9\n",
    "\n",
    "Apply Chandrasekhar method with $n=1$ and $n=2$. In both cases calculate solutions for:\n",
    "* $J(\\tau)$\n",
    "* $q(\\tau)$\n",
    "* $I(0,\\mu)$\n",
    "* $K(\\tau)$\n",
    "* $f_K = \\frac{K(\\tau)}{J(\\tau)}$\n",
    "* $f_H = \\frac{H(\\tau)}{J(\\tau)}$"
   ]
  },
  {
   "cell_type": "markdown",
   "metadata": {},
   "source": [
    "## Exercise 10\n",
    "\n",
    "#### Unsold method\n",
    "\n",
    "Lets assume plane parallel atmosphere aproximation ($\\frac{dH(\\tau)}{d\\tau} = 0$). As the first approximation of the source function use:\n",
    "$$\n",
    "B(\\tau) = 3 H (\\tau + C)\n",
    "$$\n",
    "Which means that the Hopf function $q(\\tau) = C = const$.\n",
    "\n",
    "1) Calculate the flux $H(\\tau)$ and show that:\n",
    "$$\n",
    "\\Delta H(\\tau) \\equiv H - H(\\tau) = \\frac{3}{2} H \\big(E_4(\\tau) - C E_3(\\tau)\\big)\n",
    "$$\n",
    "2) Calculate $\\Delta H(0)$ and $\\frac{d\\Delta H(\\tau) }{d\\tau}$.\n",
    "3) Show that in Unsold methos corrections to the source function equals:\n",
    "$$\n",
    "\\Delta B(\\tau) = 3 H \\Big( \\frac{17}{24} - C - \\frac{1}{2} C E_2(\\tau) + \\frac{1}{2} E_3(\\tau) + \\frac{3}{2} C E_4(\\tau) - \\frac{3}{2}E_5(\\tau) \\Big)\n",
    "$$\n",
    "4) Show that:\n",
    "* $q(0) = \\frac{7}{12}$\n",
    "* $\\lim_{\\tau \\to \\infty} = \\frac{17}{24} \\approx 0.708$\n",
    "\n",
    "5) Compare that approximation with exact solution by plotting both."
   ]
  },
  {
   "cell_type": "markdown",
   "metadata": {},
   "source": []
  },
  {
   "cell_type": "markdown",
   "metadata": {},
   "source": [
    "## Exercise 11\n",
    "Campare graphically Hopf function $q(\\tau)$ in case of different approximations to the plane parallel gray atmosphere problem:\n",
    "* Eddington method , $S(\\tau) = J_E(\\tau)$\n",
    "* Eddington method , $S(\\tau) = J^{(2)}_E(\\tau)$\n",
    "* Chandrasekhar method ($n=1$)\n",
    "* Unsold method (after one iteration)\n",
    "* Exact solution "
   ]
  },
  {
   "cell_type": "markdown",
   "metadata": {},
   "source": [
    "## Exercise 12\n",
    "\n",
    "Generalize the solution of the Exercise 10. to non-gray case.\n",
    "\n",
    "Start with:\n",
    "$$\n",
    "\\frac{d H_\\nu}{d\\tau_\\nu} = J_\\nu - S_\\nu\n",
    "$$\n",
    "$$\n",
    "\\frac{dK_\\nu}{d\\tau_\\nu} = H_\\nu\n",
    "$$\n",
    "where:\n",
    "$$\n",
    "S_\\nu = \\frac{\\kappa_\\nu}{\\kappa_\\nu + \\sigma_\\nu} B_\\nu + \\frac{\\sigma_\\nu}{\\kappa_\\nu + \\sigma_\\nu} J_\\nu\n",
    "$$\n",
    "$$\n",
    "d\\tau_\\nu = (\\kappa_\\nu + \\sigma_\\nu) \\rho dz = \\chi_\\nu \\rho dz\n",
    "$$\n",
    "\n",
    "Show that, assuming $K = \\frac{1}{3} J$ the Unsold correction equals:\n",
    "$$\n",
    "\\Delta B (\\tau_B) = 3\\frac{\\kappa_J}{\\kappa_B}\\int_0^{\\tau_B} \\frac{\\chi_H}{\\kappa_B} \\Delta H(t) dt + 2 \\Delta H(\\tau_B = 0) - \\frac{d\\big( \\Delta H (\\tau_B)\\big)}{d \\tau_B}\n",
    "$$\n",
    "\n",
    "* $K,~J,~H$ are defined as: $K = \\int_0^\\infty K_\\nu d \\nu$, etc.\n",
    "* $\\chi_H,~\\kappa_B,~ \\kappa_J$ are mean absorption coefficients weighted respectively by: $H_\\nu,~B_\\nu,~J_\\nu$\n",
    "* $\\tau_B$ - optical depth obtained using $\\kappa_B$\n",
    "\n",
    "What is the first temperature correction?"
   ]
  },
  {
   "cell_type": "markdown",
   "metadata": {},
   "source": [
    "## Exercise 13\n",
    "\n",
    "Assume plane-parallel atmosphere in LTE with source function $S_\\nu(\\tau)$ composed of LTE absorption and free electron scattering term.\n",
    "\n",
    "1) Write explicite form of source function $S_\\nu(\\tau)$.\n",
    "\n",
    "2) Write integrals for $S_\\nu$ and $J_\\nu$.\n",
    "\n",
    "3) Write operator form for $S_\\nu$ and $J_\\nu$, i.e.:\n",
    "$$\n",
    "S = \\frac{\\kappa}{\\kappa + \\sigma}B + \\frac{\\sigma}{\\kappa+\\sigma}\\Lambda [S]\n",
    "$$\n",
    "$$\n",
    "J = \\Lambda [B] + \\frac{\\sigma}{\\kappa+\\sigma}\\Lambda [J-B]\n",
    "$$"
   ]
  },
  {
   "cell_type": "markdown",
   "metadata": {},
   "source": [
    "## Exercise 14\n",
    "#### Continuation of Ex.13\n",
    "\n",
    "Iterative schema for $J(\\tau)$.\n",
    "\n",
    "Starting with initial solution $J^0 = B^0$ for $\\sigma=0$ show that, after $n$ iterations we obtained:\n",
    "$$\n",
    "J^N = B^0 + \\sum_{i=1}^n \\delta^i\n",
    "$$\n",
    "Where:\n",
    "$$\n",
    "\\delta^0 = B^0 - B\n",
    "$$\n",
    "$$\n",
    "\\delta^i = \\Lambda\\Big[ \\frac{\\sigma}{\\kappa + \\sigma} \\delta^{i-1}\\Big]\n",
    "$$\n",
    "Compute the value of  $J^n$ in case of linear source function: $B = a +b \\tau$"
   ]
  },
  {
   "cell_type": "markdown",
   "metadata": {},
   "source": [
    "## Exercise 15\n",
    "#### Continuation of Ex.14\n",
    "\n",
    "Unter the assumption of plane parallel atmosphere, $B = a+b \\tau$, $\\frac{\\kappa}{\\sigma}=const$ and Eddington approximation show that:\n",
    "$$\n",
    "J - B = \\alpha \\exp(-\\lambda \\tau) + \\beta \\exp (\\lambda\\tau)\n",
    "$$\n",
    "Where $\\lambda = \\sqrt{3\\frac{\\kappa}{\\kappa + \\sigma}}$\n",
    "\n",
    "(Hint: differentiate $\\frac{d}{d\\tau}$ radiation transfer equation)\n",
    "\n",
    "What are the boundary conditions at $\\tau = 0$ and $\\tau \\to \\infty$? For $\\tau = 0$ use Eddington approximation (it should give $\\beta=0,~\\alpha=\\frac{1}{\\sqrt{3}}H(0)-a$).\n",
    "\n",
    "Discuss the thermalization depth - the optical depth where $J\\approx B$, when scattering term dominates ($\\frac{\\kappa}{\\kappa + \\sigma} \\approx 10^{-4}$)."
   ]
  },
  {
   "cell_type": "markdown",
   "metadata": {},
   "source": [
    "## Exercise 16\n",
    "\n",
    "Derive the radiative transfer equation in the form:\n",
    "$$\n",
    "\\frac{1}{\\kappa} \\frac{d}{dm} \\Big( \\frac{1}{\\kappa} \\frac{dK}{dm}\\Big) = J - S\n",
    "$$\n",
    "Show that defining the $f_K = \\frac{K}{J}$ we get the Feautrier form of transfer equation."
   ]
  },
  {
   "cell_type": "markdown",
   "metadata": {},
   "source": [
    "## Exercise 17\n",
    "\n",
    "Unther the assumption of plane-parallel atmosphere in radiative balance and:\n",
    "$$\n",
    "S_\\nu = \\frac{\\kappa_\\nu}{\\kappa_\\nu +\\sigma_\\nu}B_\\nu + \\frac{\\sigma_\\nu}{\\kappa_\\nu +\\sigma_\\nu}J_\\nu\n",
    "$$\n",
    "Show that radiative transpher equilibrium equation reduces to:\n",
    "$$\n",
    "\\kappa_B B = \\kappa_J J\n",
    "$$\n",
    "and teprerature is given by equation (exact in LTE):\n",
    "$$\n",
    "T^4 = \\frac{3}{4} T^4_{eff} \\frac{\\kappa_J}{\\kappa_B}\\Big( \\frac{\\tau_H}{3f_K} + \\frac{1}{3f_H(0)} \\Big)\n",
    "$$\n",
    "Where:\n",
    "$$\n",
    "\\kappa_J = \\frac{\\int \\kappa_\\nu J_\\nu d\\nu}{\\int \\kappa_\\nu d\\nu}\n",
    "$$\n",
    "$$\n",
    "\\kappa_B = \\frac{\\int \\kappa_\\nu B_\\nu d\\nu}{\\int \\kappa_\\nu d\\nu}\n",
    "$$\n",
    "$$\n",
    "\\chi_H = \\frac{\\int (\\kappa_\\nu +\\sigma_nu)H_\\nu d\\nu}{\\int (\\kappa_\\nu+\\sigma_\\nu) d\\nu}\n",
    "$$\n",
    "$$\n",
    "d\\tau_H = \\chi_H dm\n",
    "$$\n",
    "And $f_K = K/J$, $f_H = H/J$\n",
    "\n",
    "Compare this to Eddington solution to grey atmosphere problem."
   ]
  },
  {
   "cell_type": "markdown",
   "metadata": {},
   "source": [
    "## Exercise 18\n",
    "\n",
    "Write down the hydrostatic equilibrium equations that include the radiative pressure:\n",
    "* $\\frac{dP_g}{dz} = \\cdots$\n",
    "* $\\frac{dP_g}{d\\tau_F} = \\cdots$\n",
    "* $\\frac{dP_g}{dm} = \\cdots$\n",
    "* $\\frac{dP_g}{dm} = \\cdots$ - in diffusion approximation\n",
    "* $\\frac{dP_g}{dz} = \\cdots$ - for gray atmosphere when $P_r = \\frac{1}{3}aT^4$"
   ]
  },
  {
   "cell_type": "markdown",
   "metadata": {},
   "source": [
    "## Exercise 19\n",
    "\n",
    "#### Spherical atmospheres\n",
    "\n",
    "Starting from the equation \n",
    "$$\n",
    "\\mu \\frac{d I_\\nu}{dr} + \\frac{1}{r} (1-\\mu^2) \\frac{dI_\\nu}{d\\mu} = j_\\nu - \\chi_\\nu I_\\nu\n",
    "$$\n",
    "Show that:\n",
    "$$\n",
    "\\frac{\\partial K_\\nu}{\\partial r} + \\frac{1}{r} (3K_\\nu - J_\\nu) = -\\chi_\\nu H_\\nu\n",
    "$$\n",
    "$$\n",
    "\\frac{1}{r^2} \\frac{\\partial (r^2 H_\\nu)}{\\partial r} = j_\\nu - \\chi_\\nu J_\\nu\n",
    "$$"
   ]
  },
  {
   "cell_type": "code",
   "execution_count": 1,
   "metadata": {},
   "outputs": [],
   "source": [
    "✅ 🔴"
   ]
  }
 ],
 "metadata": {
  "kernelspec": {
   "display_name": "Python 3",
   "language": "python",
   "name": "python3"
  },
  "language_info": {
   "codemirror_mode": {
    "name": "ipython",
    "version": 3
   },
   "file_extension": ".py",
   "mimetype": "text/x-python",
   "name": "python",
   "nbconvert_exporter": "python",
   "pygments_lexer": "ipython3",
   "version": "3.7.6"
  }
 },
 "nbformat": 4,
 "nbformat_minor": 2
}
