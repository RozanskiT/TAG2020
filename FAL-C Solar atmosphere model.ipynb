{
 "cells": [
  {
   "cell_type": "markdown",
   "metadata": {},
   "source": [
    "# FAL-C Solar atmosphere model\n",
    "\n",
    "This notebok is based on materials prepared by B. Rutten availible at webpage: https://www.staff.science.uu.nl/~rutte101/."
   ]
  },
  {
   "cell_type": "markdown",
   "metadata": {},
   "source": [
    "## FAL-C exploration\n",
    "\n",
    "We will explore the solar atmosphere model FALC (average quiet Sun) by [Fontenla at al. (1993)](https://ui.adsabs.harvard.edu/abs/1993ApJ...406..319F/abstract). In the series of three artivels they describe plane parallel, static, homogenous model of solar photosphere and chromosphere. Let's take a look at the model itself:"
   ]
  },
  {
   "cell_type": "code",
   "execution_count": 18,
   "metadata": {},
   "outputs": [],
   "source": [
    "import pandas as pd"
   ]
  },
  {
   "cell_type": "code",
   "execution_count": 19,
   "metadata": {},
   "outputs": [
    {
     "data": {
      "text/html": [
       "<div>\n",
       "<style scoped>\n",
       "    .dataframe tbody tr th:only-of-type {\n",
       "        vertical-align: middle;\n",
       "    }\n",
       "\n",
       "    .dataframe tbody tr th {\n",
       "        vertical-align: top;\n",
       "    }\n",
       "\n",
       "    .dataframe thead th {\n",
       "        text-align: right;\n",
       "    }\n",
       "</style>\n",
       "<table border=\"1\" class=\"dataframe\">\n",
       "  <thead>\n",
       "    <tr style=\"text-align: right;\">\n",
       "      <th></th>\n",
       "      <th>height</th>\n",
       "      <th>tau_500</th>\n",
       "      <th>colmass</th>\n",
       "      <th>temp</th>\n",
       "      <th>v_turb</th>\n",
       "      <th>n_Htotal</th>\n",
       "      <th>n_proton</th>\n",
       "      <th>n_electron</th>\n",
       "      <th>pressure</th>\n",
       "      <th>p_gas/p</th>\n",
       "      <th>density</th>\n",
       "    </tr>\n",
       "  </thead>\n",
       "  <tbody>\n",
       "    <tr>\n",
       "      <th>0</th>\n",
       "      <td>2218.20</td>\n",
       "      <td>0.000000e+00</td>\n",
       "      <td>0.000007</td>\n",
       "      <td>100000</td>\n",
       "      <td>11.73</td>\n",
       "      <td>5.575000e+09</td>\n",
       "      <td>5.575000e+09</td>\n",
       "      <td>6.665000e+09</td>\n",
       "      <td>0.1857</td>\n",
       "      <td>0.952</td>\n",
       "      <td>1.306000e-14</td>\n",
       "    </tr>\n",
       "    <tr>\n",
       "      <th>1</th>\n",
       "      <td>2216.50</td>\n",
       "      <td>7.696000e-10</td>\n",
       "      <td>0.000007</td>\n",
       "      <td>95600</td>\n",
       "      <td>11.65</td>\n",
       "      <td>5.838000e+09</td>\n",
       "      <td>5.837000e+09</td>\n",
       "      <td>6.947000e+09</td>\n",
       "      <td>0.1857</td>\n",
       "      <td>0.950</td>\n",
       "      <td>1.368000e-14</td>\n",
       "    </tr>\n",
       "    <tr>\n",
       "      <th>2</th>\n",
       "      <td>2214.89</td>\n",
       "      <td>1.531000e-09</td>\n",
       "      <td>0.000007</td>\n",
       "      <td>90816</td>\n",
       "      <td>11.56</td>\n",
       "      <td>6.151000e+09</td>\n",
       "      <td>6.150000e+09</td>\n",
       "      <td>7.284000e+09</td>\n",
       "      <td>0.1858</td>\n",
       "      <td>0.948</td>\n",
       "      <td>1.441000e-14</td>\n",
       "    </tr>\n",
       "    <tr>\n",
       "      <th>3</th>\n",
       "      <td>2212.77</td>\n",
       "      <td>2.597000e-09</td>\n",
       "      <td>0.000007</td>\n",
       "      <td>83891</td>\n",
       "      <td>11.42</td>\n",
       "      <td>6.668000e+09</td>\n",
       "      <td>6.667000e+09</td>\n",
       "      <td>7.834000e+09</td>\n",
       "      <td>0.1859</td>\n",
       "      <td>0.945</td>\n",
       "      <td>1.562000e-14</td>\n",
       "    </tr>\n",
       "    <tr>\n",
       "      <th>4</th>\n",
       "      <td>2210.64</td>\n",
       "      <td>3.754000e-09</td>\n",
       "      <td>0.000007</td>\n",
       "      <td>75934</td>\n",
       "      <td>11.25</td>\n",
       "      <td>7.381000e+09</td>\n",
       "      <td>7.378000e+09</td>\n",
       "      <td>8.576000e+09</td>\n",
       "      <td>0.1860</td>\n",
       "      <td>0.941</td>\n",
       "      <td>1.729000e-14</td>\n",
       "    </tr>\n",
       "  </tbody>\n",
       "</table>\n",
       "</div>"
      ],
      "text/plain": [
       "    height       tau_500   colmass    temp  v_turb      n_Htotal  \\\n",
       "0  2218.20  0.000000e+00  0.000007  100000   11.73  5.575000e+09   \n",
       "1  2216.50  7.696000e-10  0.000007   95600   11.65  5.838000e+09   \n",
       "2  2214.89  1.531000e-09  0.000007   90816   11.56  6.151000e+09   \n",
       "3  2212.77  2.597000e-09  0.000007   83891   11.42  6.668000e+09   \n",
       "4  2210.64  3.754000e-09  0.000007   75934   11.25  7.381000e+09   \n",
       "\n",
       "       n_proton    n_electron  pressure  p_gas/p       density  \n",
       "0  5.575000e+09  6.665000e+09    0.1857    0.952  1.306000e-14  \n",
       "1  5.837000e+09  6.947000e+09    0.1857    0.950  1.368000e-14  \n",
       "2  6.150000e+09  7.284000e+09    0.1858    0.948  1.441000e-14  \n",
       "3  6.667000e+09  7.834000e+09    0.1859    0.945  1.562000e-14  \n",
       "4  7.378000e+09  8.576000e+09    0.1860    0.941  1.729000e-14  "
      ]
     },
     "execution_count": 19,
     "metadata": {},
     "output_type": "execute_result"
    }
   ],
   "source": [
    "falc_model_filename= \"data/falc.dat\"\n",
    "falc= pd.read_csv(falc_model_filename, \n",
    "                  delim_whitespace=True, \n",
    "                  index_col=None,\n",
    "                  comment='#')\n",
    "# height tau_500 colmass  temp v_turb n_Htotal n_proton n_electron pressure  p_gas/p density\n",
    "# [km]   dimless [g/cm^2] [K]  [km/s] [cm^-3]  [cm^-3]  [cm^-3]    [dyn/cm2] ratio   [g/cm^3]\n",
    "falc.head()"
   ]
  },
  {
   "cell_type": "markdown",
   "metadata": {},
   "source": [
    "The first column specifies the height $h$ which is the distance above $\\tau_{500}=1$ where $\\tau_{500}$, given in the second column, is the radial optical depth in the continuum at $\\lambda = 500 \\text{nm}$. The quantity $m$ in the third column is the mass of a column with cross-section $1\\,\\text{cm}^2$ above given location.\n",
    "\n",
    "### Temperature stratification\n",
    "\n",
    "Below you can see the temperature stratification of the FALC model. Dashed lines shows convetional boundaries between different layers. "
   ]
  },
  {
   "cell_type": "code",
   "execution_count": 20,
   "metadata": {},
   "outputs": [],
   "source": [
    "import matplotlib.pyplot as plt"
   ]
  },
  {
   "cell_type": "code",
   "execution_count": 80,
   "metadata": {},
   "outputs": [
    {
     "data": {
      "image/png": "[encoded data removed]",
      "text/plain": [
       "<Figure size 864x432 with 1 Axes>"
      ]
     },
     "metadata": {
      "needs_background": "light"
     },
     "output_type": "display_data"
    }
   ],
   "source": [
    "plt.figure(figsize=(12,6))\n",
    "\n",
    "plt.plot(falc[\"height\"], falc[\"temp\"])\n",
    "\n",
    "plt.vlines((525, 2100, 2218), ymin=0, ymax=1e5, linestyles='--')\n",
    "\n",
    "bbox=dict(facecolor='white', alpha=0.6)\n",
    "plt.text(150, 12000, \"Photosphere\", fontsize=16, \n",
    "         horizontalalignment='center', bbox=bbox)\n",
    "plt.text(1300,12000, \"Chromosphere\", fontsize=16, \n",
    "         horizontalalignment='center', bbox=bbox)\n",
    "plt.text(2160,8000 , \"Transition region\", fontsize=16, \n",
    "         horizontalalignment='center', bbox=bbox, rotation=90)\n",
    "plt.text(2500,12000, \"Corona\", fontsize=16, \n",
    "         horizontalalignment='center', bbox=bbox)\n",
    "\n",
    "plt.ylim(2500, 15000)\n",
    "plt.xlim(-300, 2700)\n",
    "plt.xlabel(\"height [km]\", fontsize=16)\n",
    "plt.ylabel(\"temperature [K]\", fontsize=16)\n",
    "plt.title(\"FALC temperature stratification\", fontsize=20)\n",
    "plt.grid()"
   ]
  },
  {
   "cell_type": "markdown",
   "metadata": {},
   "source": [
    "### Microturbulent velocity, pressure and density\n",
    "\n",
    "The microturbulent elocity $v_t$ roughly accounts for the Doppler broadening that is observed to exceed the thermal broadening of lines formed at various heights. The total pressure $P_{tot}$ is the sum of the gas pressure $P_{gas}$ and the corresponding turbulent pressure $\\rho v_t^2/2$ where $\\rho$ is the gas density (last column)."
   ]
  },
  {
   "cell_type": "markdown",
   "metadata": {},
   "source": [
    "### Hydrogen, free proton and free electron density\n",
    "\n",
    "The tables also lists the total hydrogen density $n_H$, the proton density $n_P$, and the free electron density $n_e$. Given the $T$ and $v_t$, these number densities and other quantities were determined by redquiring hydrostatic equilibrium and evaludationg the ionisation balances by solving the coupled radiative transfer and statistical equilibrum equations (Qithout assuming LTE). The adopted helium-to-hydrogen abundance ratio is $N_{He}/N_H = 0.1$. The relative abundances of other elements came from [Anders and Grevesse (1989)](https://ui.adsabs.harvard.edu/abs/1989GeCoA..53..197A/abstract). Nowadays one would use those of [Asplund et al. (2009)](https://ui.adsabs.harvard.edu/abs/2009ARA%26A..47..481A/abstract)."
   ]
  },
  {
   "cell_type": "markdown",
   "metadata": {},
   "source": [
    "## Exercises"
   ]
  },
  {
   "cell_type": "markdown",
   "metadata": {},
   "source": [
    "Constants that you may need are placed at the end of the notebook ([link](#constants)). In case you don't know how to attack the problem first try to search the B. Rutten [notes](https://www.staff.science.uu.nl/~rutte101/rrweb/rjr-pubs/2003rtsa.book.....R.pdf).\n",
    "\n",
    "1. Plot the total pressure $p_{total}$ against the column mass $m$, both lineary and logarithmically. You will find that they scale linearly. Explain what assumption has caused $p_{total} = c\\,m$ and determine the value of the solar surface gravity $g_{surface} = c$ that went into the FALC-producing code.\n",
    "\n",
    "2. [Fontenla et al. (1993)](https://ui.adsabs.harvard.edu/abs/1993ApJ...406..319F/abstract) also assumed complete mixing, i.e., the same element mix at all heights. Check this by plotting the ratio of the hydrogen mass density to the total mass density against height (the hydrogen atom mass is $m_H = 1.67352\\times10^{-24} \\text{g}$). Then add helium to hydrogen using their abundance and mass ratios ($N_{He} /N_{H} = 0.1$, $m_{He} = 3.97 m_H$ ), and estimate the fraction of the total mass density made up by the remaining elements in the model mix (the “metals”).\n",
    "\n",
    "3. Plot the column mass against height. The curve becomes nearly straight when you make the y-axis logarithmic. Why is that? Why isn’t it exactly straight?\n",
    "\n",
    "4. Plot the gas density against height. Estimate the density scale height $H_\\rho$ in $\\rho \\approx \\rho(0) \\exp(−h/H_\\rho )$ in the photosphere.\n",
    "\n",
    "5. Compute the gas pressure and plot it against height. Overplot the product $(n_H + n_e ) kT$ . Plot the ratio of the two curves to show their differences. Do the differences measure deviations from the ideal gas law or something else? Now add the helium density $N_{He}$ to the product and enlarge the deviations. Comments?\n",
    "\n",
    "6. Plot the total hydrogen density against height and overplot curves for the electron density, the proton density, and the density of the electrons that do not result from hydrogen ionization. Explain their behavior. The last curve is parallel to the hydrogen density over a considerable height range. What does that imply? And what happens at larger height?\n",
    "\n",
    "7. Plot the ionization fraction of hydrogen logarithmically against height. Why does this curve look like the temperature stratification plotted above? And why is it tilted with respect to that?\n",
    "\n",
    "8. ***** Let us now compare the photon and particle densities. In thermodynamic equilibrium (TE) the radiation is isotropic with intensity $I_\\nu = B_\\nu$ and has total energy density (Stefan Boltzmann)\n",
    "$$\n",
    "u = \\frac{1}{c} \\iint B_\\nu d\\Omega d\\nu = \\frac{4\\sigma}{c}T^4\n",
    "$$\n",
    "so that the total photon density for isotropic TE radiation is given, with $u_\\nu = du/d\\nu$, $T$ in K and $N_{phot}$ in photons per $\\text{cm}^3$, by\n",
    "$$\n",
    "N_{phot} = \\int_0^\\infty \\frac{u_\\nu}{h\\nu}d\\nu \\approx 20 T^3\n",
    "$$\n",
    "This equation gives a reasonable estimate for the photon density at the deepest model location, why? Compute the value there and compare it to the hydrogen density. Why is the equation not valid higher ut the atmosphere? The photon density there is $N_{phot}\\approx20T^3_{eff}/2\\pi$ with $T_{eff}=5770$ K the effective solar temperature. Compare it to the hydrogen density at the highest location in the FALC model. The medium there is insensitive to these photons (except those at the center wavelength of the hydrogen Ly$\\alpha$ line), why?"
   ]
  },
  {
   "cell_type": "markdown",
   "metadata": {},
   "source": [
    "## Solutions"
   ]
  },
  {
   "cell_type": "code",
   "execution_count": 1,
   "metadata": {},
   "outputs": [],
   "source": [
    "# ..."
   ]
  },
  {
   "cell_type": "markdown",
   "metadata": {},
   "source": [
    "## Constants\n",
    "\n",
    "* 1 erg = $10^{-7}$ J\n",
    "* 1 dyne cm$^{-2}$ = 0.1 Pascal = $10^{-6}$ bar = $9.8693\\times10^{-4}$ atm\n",
    "* 1 eV = $1.60219 \\times 10^{-12}$ erg\n",
    "* photon energy = E [eV] = 12398.55/$\\lambda$ [Angstrom]"
   ]
  }
 ],
 "metadata": {
  "kernelspec": {
   "display_name": "Python 3",
   "language": "python",
   "name": "python3"
  },
  "language_info": {
   "codemirror_mode": {
    "name": "ipython",
    "version": 3
   },
   "file_extension": ".py",
   "mimetype": "text/x-python",
   "name": "python",
   "nbconvert_exporter": "python",
   "pygments_lexer": "ipython3",
   "version": "3.7.1"
  }
 },
 "nbformat": 4,
 "nbformat_minor": 2
}
